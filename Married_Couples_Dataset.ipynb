{
 "cells": [
  {
   "cell_type": "code",
   "execution_count": 1,
   "id": "af3e6ea7",
   "metadata": {},
   "outputs": [],
   "source": [
    "import pandas as pd\n",
    "import numpy as np\n",
    "import matplotlib.pyplot as plt\n",
    "import seaborn as sns \n"
   ]
  },
  {
   "cell_type": "code",
   "execution_count": 2,
   "id": "931d123f",
   "metadata": {},
   "outputs": [],
   "source": [
    "df = pd.read_csv(r\"..\\Data\\US_Married_Couples_Work_Household_Insights\\Mroz.csv\")"
   ]
  },
  {
   "cell_type": "code",
   "execution_count": 3,
   "id": "ba4e580b",
   "metadata": {},
   "outputs": [
    {
     "name": "stdout",
     "output_type": "stream",
     "text": [
      "     Unnamed: 0 work  hoursw  child6  child618  agew  educw  hearnw  wagew  \\\n",
      "0             1  yes    1610       1         0    32     12  3.3540   2.65   \n",
      "1             2  yes    1656       0         2    30     12  1.3889   2.65   \n",
      "2             3  yes    1980       1         3    35     12  4.5455   4.04   \n",
      "3             4  yes     456       0         3    34     12  1.0965   3.25   \n",
      "4             5  yes    1568       1         2    31     14  4.5918   3.60   \n",
      "..          ...  ...     ...     ...       ...   ...    ...     ...    ...   \n",
      "748         749   no       0       0         2    40     13  0.0000   0.00   \n",
      "749         750   no       0       2         3    31     12  0.0000   0.00   \n",
      "750         751   no       0       0         0    43     12  0.0000   0.00   \n",
      "751         752   no       0       0         0    60     12  0.0000   0.00   \n",
      "752         753   no       0       0         3    39      9  0.0000   0.00   \n",
      "\n",
      "     hoursh  ageh  educh    wageh  income  educwm  educwf  unemprate city  \\\n",
      "0      2708    34     12   4.0288   16310      12       7        5.0   no   \n",
      "1      2310    30      9   8.4416   21800       7       7       11.0  yes   \n",
      "2      3072    40     12   3.5807   21040      12       7        5.0   no   \n",
      "3      1920    53     10   3.5417    7300       7       7        5.0   no   \n",
      "4      2000    32     12  10.0000   27300      12      14        9.5  yes   \n",
      "..      ...   ...    ...      ...     ...     ...     ...        ...  ...   \n",
      "748    3020    43     16   9.2715   28200      10      10        9.5  yes   \n",
      "749    2056    33     12   4.8638   10000      12      12        7.5   no   \n",
      "750    2383    43     12   1.0898    9952      10       3        7.5   no   \n",
      "751    1705    55      8  12.4400   24984      12      12       14.0  yes   \n",
      "752    3120    48     12   6.0897   28363       7       7       11.0  yes   \n",
      "\n",
      "     experience  \n",
      "0            14  \n",
      "1             5  \n",
      "2            15  \n",
      "3             6  \n",
      "4             7  \n",
      "..          ...  \n",
      "748           5  \n",
      "749          14  \n",
      "750           4  \n",
      "751          15  \n",
      "752          12  \n",
      "\n",
      "[753 rows x 19 columns]\n"
     ]
    }
   ],
   "source": [
    "print(df)"
   ]
  },
  {
   "cell_type": "code",
   "execution_count": 4,
   "id": "a72fc75e",
   "metadata": {},
   "outputs": [],
   "source": [
    "#Transforming the column Names\n",
    "df.columns = ['ID','work','Wife Hrs Worked', 'children below 6yrs', 'children between 6 and 18', 'Wife Age', \n",
    "              'Wife Education Yrs', 'Average Hourly Earning 1975', 'Wife Wage 1976', 'Husband Hours', \n",
    "              'Husband Age', 'Husband Education Yrs', 'Husband Wage', 'Family Income', \n",
    "              'Wife Mother Education Yrs', 'Wife Father Education Yrs', 'Unemployment Rate (%)', \n",
    "              'City', 'Labor Market Experience']\n"
   ]
  },
  {
   "cell_type": "code",
   "execution_count": 5,
   "id": "d6aa7be9",
   "metadata": {},
   "outputs": [
    {
     "name": "stdout",
     "output_type": "stream",
     "text": [
      "ID                             0\n",
      "work                           0\n",
      "Wife Hrs Worked                0\n",
      "children below 6yrs            0\n",
      "children between 6 and 18      0\n",
      "Wife Age                       0\n",
      "Wife Education Yrs             0\n",
      "Average Hourly Earning 1975    0\n",
      "Wife Wage 1976                 0\n",
      "Husband Hours                  0\n",
      "Husband Age                    0\n",
      "Husband Education Yrs          0\n",
      "Husband Wage                   0\n",
      "Family Income                  0\n",
      "Wife Mother Education Yrs      0\n",
      "Wife Father Education Yrs      0\n",
      "Unemployment Rate (%)          0\n",
      "City                           0\n",
      "Labor Market Experience        0\n",
      "dtype: int64\n",
      "ID                               int64\n",
      "work                            object\n",
      "Wife Hrs Worked                  int64\n",
      "children below 6yrs              int64\n",
      "children between 6 and 18        int64\n",
      "Wife Age                         int64\n",
      "Wife Education Yrs               int64\n",
      "Average Hourly Earning 1975    float64\n",
      "Wife Wage 1976                 float64\n",
      "Husband Hours                    int64\n",
      "Husband Age                      int64\n",
      "Husband Education Yrs            int64\n",
      "Husband Wage                   float64\n",
      "Family Income                    int64\n",
      "Wife Mother Education Yrs        int64\n",
      "Wife Father Education Yrs        int64\n",
      "Unemployment Rate (%)          float64\n",
      "City                            object\n",
      "Labor Market Experience          int64\n",
      "dtype: object\n"
     ]
    }
   ],
   "source": [
    "#Checking for Missing Values\n",
    "print(df.isnull().sum())\n",
    "#Checking for data type conversions\n",
    "print(df.dtypes)\n",
    "#Handling Categorical Variables\n",
    "df = pd.get_dummies(df, columns=['City', 'work'])\n",
    "#Making a new Feature = Total Family Income)\n",
    "df['Total Family Income'] = df['Family Income'] + df['Wife Wage 1976'] + df['Husband Wage']\n",
    "#Removing Unnecessary Columns\n",
    "df.drop(['ID'], axis=1, inplace=True)  \n",
    "#Reordering the columns for better readability\n",
    "df = df[['Wife Hrs Worked', 'children below 6yrs', 'children between 6 and 18', 'Wife Age', \n",
    "         'Wife Education Yrs', 'Average Hourly Earning 1975', 'Wife Wage 1976', 'Husband Hours', \n",
    "         'Husband Age', 'Husband Education Yrs', 'Husband Wage', 'Family Income', 'Wife Mother Education Yrs', \n",
    "         'Wife Father Education Yrs', 'Unemployment Rate (%)', 'City_no', 'City_yes', 'work_no', 'work_yes', \n",
    "         'Labor Market Experience', 'Total Family Income']]\n",
    "\n"
   ]
  },
  {
   "cell_type": "code",
   "execution_count": 6,
   "id": "76f0a120",
   "metadata": {},
   "outputs": [
    {
     "name": "stdout",
     "output_type": "stream",
     "text": [
      "   Wife Hrs Worked  children below 6yrs  children between 6 and 18  Wife Age  \\\n",
      "0             1610                    1                          0        32   \n",
      "1             1656                    0                          2        30   \n",
      "2             1980                    1                          3        35   \n",
      "3              456                    0                          3        34   \n",
      "4             1568                    1                          2        31   \n",
      "\n",
      "   Wife Education Yrs Average Hourly Earning 1975 Wife Wage 1976  \\\n",
      "0                  12                       $3.35          $2.65   \n",
      "1                  12                       $1.39          $2.65   \n",
      "2                  12                       $4.55          $4.04   \n",
      "3                  12                       $1.10          $3.25   \n",
      "4                  14                       $4.59          $3.60   \n",
      "\n",
      "   Husband Hours  Husband Age  Husband Education Yrs  ... Family Income  \\\n",
      "0           2708           34                     12  ...    $16,310.00   \n",
      "1           2310           30                      9  ...    $21,800.00   \n",
      "2           3072           40                     12  ...    $21,040.00   \n",
      "3           1920           53                     10  ...     $7,300.00   \n",
      "4           2000           32                     12  ...    $27,300.00   \n",
      "\n",
      "  Wife Mother Education Yrs  Wife Father Education Yrs  Unemployment Rate (%)  \\\n",
      "0                        12                          7                    5.0   \n",
      "1                         7                          7                   11.0   \n",
      "2                        12                          7                    5.0   \n",
      "3                         7                          7                    5.0   \n",
      "4                        12                         14                    9.5   \n",
      "\n",
      "   City_no  City_yes  work_no  work_yes  Labor Market Experience  \\\n",
      "0        1         0        0         1                       14   \n",
      "1        0         1        0         1                        5   \n",
      "2        1         0        0         1                       15   \n",
      "3        1         0        0         1                        6   \n",
      "4        0         1        0         1                        7   \n",
      "\n",
      "   Total Family Income  \n",
      "0           $16,316.68  \n",
      "1           $21,811.09  \n",
      "2           $21,047.62  \n",
      "3            $7,306.79  \n",
      "4           $27,313.60  \n",
      "\n",
      "[5 rows x 21 columns]\n"
     ]
    }
   ],
   "source": [
    "#Function to format the money fields\n",
    "def format_money(money):\n",
    "    return '${:,.2f}'.format(money)\n",
    "\n",
    "# Apply the formatting to relevant columns\n",
    "money_columns = ['Average Hourly Earning 1975', 'Wife Wage 1976', 'Husband Wage', 'Family Income', 'Total Family Income']\n",
    "for col in money_columns:\n",
    "    df[col] = df[col].map(format_money)\n",
    "\n",
    "# Print the first few rows to verify the formatting\n",
    "print(df.head())\n"
   ]
  },
  {
   "cell_type": "code",
   "execution_count": null,
   "id": "5163dc7a",
   "metadata": {},
   "outputs": [],
   "source": []
  }
 ],
 "metadata": {
  "kernelspec": {
   "display_name": "Python 3 (ipykernel)",
   "language": "python",
   "name": "python3"
  },
  "language_info": {
   "codemirror_mode": {
    "name": "ipython",
    "version": 3
   },
   "file_extension": ".py",
   "mimetype": "text/x-python",
   "name": "python",
   "nbconvert_exporter": "python",
   "pygments_lexer": "ipython3",
   "version": "3.8.8"
  }
 },
 "nbformat": 4,
 "nbformat_minor": 5
}
